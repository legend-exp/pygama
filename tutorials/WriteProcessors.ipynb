{
 "cells": [
  {
   "cell_type": "markdown",
   "id": "a3adc505-d0f6-4e6a-92bf-626e4a347d61",
   "metadata": {},
   "source": [
    "# How to Write a Signal Processor\n",
    "\n",
    "Ian Guinn, UNC.  Presented at [LEGEND Software Tutorial, Nov. 2021](https://indico.legend-exp.org/event/561/)\n",
    "\n",
    "This tutorial will demonstrate, using several examples, how to write a signal processor. Signal processors are typically written using numba, a python library that generates high performance C-code from python. In particular, we will use the guvectorize command to write generalized ufuncs: https://numpy.org/doc/stable/reference/c-api/generalized-ufuncs.html\n",
    "\n",
    "Compared to a typical python function, generalized ufuncs are required to specify more information. In particular, we must provide information about the data types of the inputs, the shape of the arrays that will be provided, and some other details about how the function will be generated. We will generate a few simple examples to demonstrate these concepts; in addition, a list of processors are provided in pygama/dsp/\\_processors, providing even more examples. When you write an actual processor, you will add a new python module to this directory with the function defined, and then register it in pygama/dsp/processors.py, so that pygama has an easy time finding it."
   ]
  },
  {
   "cell_type": "code",
   "execution_count": null,
   "id": "240ba40d-428c-4aea-822c-02a7a946310c",
   "metadata": {},
   "outputs": [],
   "source": [
    "import numpy as np\n",
    "from numba import guvectorize\n",
    "from pygama.dsp.errors import DSPFatal"
   ]
  },
  {
   "cell_type": "markdown",
   "id": "ed2228e2-9239-4e8d-80bb-03bcfeec5ec1",
   "metadata": {},
   "source": [
    "## Example 1: A simple processor\n",
    "\n",
    "For our first, very simple example, we will produce a processor that adds a value to each element of a waveform. The function itself is written in normal looking python. As written, however, this would be a low performing function due to the for loop that it uses (python loops are slow; this is why we like vectorized functions). By compiling this function, numba will convert the loop to C, which will accelerate it considerably.\n",
    "\n",
    "It is also important to notice that the output of the function is not returned, but instead is an argument of the function (w_out). While this is somewhat unusual in python, this is called \"passing by reference\" and is common practice in C and other languages; instead of creating a new array and returning it, this function will take a pre-defined memory block and fill it. This further aids the performance of the DSP by avoiding repeated allocation and deallocation of arrays, which can be a slow process. This function can still be called by passing only inputs; in that case the numbafied function will automatically \"broadcast\" the shape and type of the output array from the input values, and create it.\n",
    "\n",
    "Prior to the definition of the function, we add the @guvectorize operator, with the following arguments:\n",
    "1) A list of type signatures. Each signature will have one type for each function argument. The types are all primitive C-types, and can largely be described by a type (floating point, integer, unsigned integer) and a size (in bits). For this example, we are using 32-bit and 64-bit floats (aka doubles). For types that represent arrays and for outputs, we must also append [:]. If you are familiar with C, this can be thought of as passing a pointer\n",
    "2) A shape-signature, with a parenthesis-enclosed shape variable for each argument. Scalar values are represented as (), 1D arrays by (n), 2D arrays by (n,m), etc. For arrays with the same character, each argument must be the same length (in this example, this means the output w_out must be the same size as w_in). Inputs and outputs are separated by ->; however, inputs can still be modified and treated as outputs. This becomes necessary when the output has a shape different from all inputs!\n",
    "3) nopython: if set to True, this will force numba to compile C-code, or fail if it is unable to. Alternatively, one can use forceobj mode, which does not actually compile C-code; we will have an example of this soon.\n",
    "4) cache: if set to True, after compiling the function, we will store it on disk. This avoids the need to recompile the function each time we restart python"
   ]
  },
  {
   "cell_type": "code",
   "execution_count": null,
   "id": "b085bca5-c323-4174-947c-089d71c8fcd8",
   "metadata": {},
   "outputs": [],
   "source": [
    "@guvectorize([\"void(float32[:], float32, float32[:])\",\n",
    "              \"void(float64[:], float64, float64[:])\"],\n",
    "             \"(n),()->(n)\", nopython=True, cache=True)\n",
    "def test(a, b, c):\n",
    "    for i, x in enumerate(a):\n",
    "        c[i] = x + b\n",
    "\n",
    "w_in = np.arange(10)\n",
    "print(\"test(\"+str(np.arange(10))+\", 3.) = \"+str(test(w_in, 3.)))"
   ]
  },
  {
   "cell_type": "markdown",
   "id": "207cbd3f-cd38-4d56-b2f1-9819bbfef536",
   "metadata": {},
   "source": [
    "## Example 2: Wrapping a python function\n",
    "\n",
    "Sometimes, we want to be able to run python code from other scientific computing libraries such as scipy. It's cases like this, where we use forceobj instead of nopython mode. For this example, we will use scipy's fast fourier transform to compute."
   ]
  },
  {
   "cell_type": "code",
   "execution_count": null,
   "id": "ba4a4617-918f-4306-8711-8ec75f5fbe38",
   "metadata": {},
   "outputs": [],
   "source": [
    "import scipy.fft\n",
    "\n",
    "@guvectorize([\"void(float32[:], complex64[:])\",\n",
    "              \"void(float64[:], complex128[:])\"],\n",
    "             \"(n)->(n)\", forceobj=True)\n",
    "def fft(w_in, fft_out):\n",
    "    fft_out[:] = scipy.fft.fft(w_in)\n",
    "\n",
    "w_in = np.arange(10)\n",
    "print(\"fft(\" + str(w_in) + \") = \" + str(fft(np.arange(10))))\n"
   ]
  },
  {
   "cell_type": "markdown",
   "id": "da64add8-ef97-42db-9262-d5e9fce96088",
   "metadata": {},
   "source": [
    "## Example 3: Pygama Style Specifications\n",
    "\n",
    "For pygama, we have defined additional style specifications, which are laid out in pygama/dsp/\\_processors/template.py. This defines naming schemes and which types to use. It also lays out how to handle exceptions and bounds checking using not-a-numbers (NaNs). Finally, it describes how to document the code using doc-strings.\n",
    "\n",
    "We will revisit Example 1, applying these guidelines."
   ]
  },
  {
   "cell_type": "code",
   "execution_count": null,
   "id": "07378535-02aa-4d70-a17b-6de95b1379c0",
   "metadata": {},
   "outputs": [],
   "source": [
    "@guvectorize([\"void(float32[:], float32, float32[:])\",\n",
    "              \"void(float64[:], float64, float64[:])\"],\n",
    "             \"(n),()->(n)\", nopython=True, cache=True)\n",
    "def test(w_in, a_in, w_out):\n",
    "    \"\"\"This is a test function to demonstrate the basics of writing DSP processors. It adds a constant value to the input waveform.\n",
    "    Parameters\n",
    "    ----------\n",
    "    w_in : input waveform\n",
    "    a_in : input scalar added to input waveform\n",
    "    w_out : output waveform\n",
    "    \"\"\"\n",
    "    # If scalar is not finite, raise an exception\n",
    "    if not np.isfinite(a_in):\n",
    "        raise DSPFatal(\"Input scalar must not be NaN or inf\")\n",
    "    \n",
    "    # If any NaNs appear in w_in, set w_out to all NaN\n",
    "    if np.isnan(w_in).any():\n",
    "        w_out[:] = np.nan\n",
    "        return\n",
    "    \n",
    "    for i, x in enumerate(w_in):\n",
    "        w_out[i] = x + a_in\n"
   ]
  }
 ],
 "metadata": {},
 "nbformat": 4,
 "nbformat_minor": 5
}
