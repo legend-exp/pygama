{
 "cells": [
  {
   "cell_type": "markdown",
   "metadata": {},
   "source": [
    "# Introduction\n",
    "\n",
    "Ian Guinn, UNC\n",
    "\n",
    "Presented at [LEGEND Software Tutorial, Nov. 2021](https://indico.legend-exp.org/event/561/)\n",
    "\n",
    "**\"Have you tried looking at the waveforms from those events?\"  - David Radford**\n",
    "\n",
    "This is a tutorial demonstrating several ways to use the Waveform browser to examine data from LEGEND. This will consist of multiple examples, increasing in complexity, and will use data from the PGT. The waveform browser (pygama.dsp.WaveformBrowser) is a pygama utility for accessing waveforms from raw files in an interactive way, enabling you to access, draw, or even process waveforms. Some use cases for this utility include investigating a population of waveforms, and debugging waveform processors.\n",
    "\n",
    "Why do we need a waveform browser when we can access data via pandas dataframes?\n",
    "Pandas dataframes work extremely well for reading tables of simple values from multiple HDF5 files. However, they are less optimal for waveforms. The reason for this is that they require holding all waveforms in memory at once. If we want to look at waveforms spread out across multiple files, this can potentially take up GBs of memory, which will cause problems! To get around this, we want to load only bits of the files into memory at a time and pull out only what we need. Since this is an inconvenient process, the WaveformBrowser will do this for you, while hiding the details as much as possible.\n",
    "\n",
    "## Contents:\n",
    "**Example 1:** Minimal usage of the waveform browser  \n",
    "**Example 2:** Draw waveforms using a data cut to investigate a population; fill a legend  \n",
    "**Example 3:** Draw waveforms from multiple populations with different cuts for comparison; using more advanced formatting options  \n",
    "**Example 4:** Draw processed waveforms from a DSP config file to inspect processors  \n",
    "**Example 5:** Access waveforms without drawing"
   ]
  },
  {
   "cell_type": "code",
   "execution_count": null,
   "metadata": {},
   "outputs": [],
   "source": [
    "#First, import necessary modules and set some input values for use later\n",
    "%matplotlib inline\n",
    "import pygama.lgdo.lh5_store as lh5\n",
    "from pygama.vis.waveform_browser import WaveformBrowser\n",
    "import matplotlib.pyplot as plt\n",
    "import pandas as pd\n",
    "import numpy as np\n",
    "import os, json\n",
    "\n",
    "# Set input values for where to find our data. This will grab all calibration runs from run 30, parsing wildcards\n",
    "\n",
    "# pgt_dir = '$LEGENDDATADIR/lngs/pgt/'\n",
    "pgt_dir = '/global/cfs/cdirs/m2676/data/lngs/pgt/'\n",
    "raw_files = pgt_dir + 'raw/geds/LPGTA_r0030_*_calib_geds_raw.lh5'\n",
    "dsp_files = pgt_dir + 'dsp/geds/LPGTA_r0030_*_calib_geds_dsp.lh5'\n",
    "channel = 'g040'\n",
    "\n",
    "# Set defaults for figures\n",
    "plt.rcParams['figure.figsize'] = (12, 8)\n",
    "plt.rcParams['font.size'] = 16"
   ]
  },
  {
   "cell_type": "markdown",
   "metadata": {},
   "source": [
    "## Example 1\n",
    "\n",
    "First, a minimal example simply drawing waveforms from the raw file"
   ]
  },
  {
   "cell_type": "code",
   "execution_count": null,
   "metadata": {},
   "outputs": [],
   "source": [
    "# Create a minimal waveform browser; a file or list of files is required\n",
    "browser = WaveformBrowser(raw_files, channel+'/raw')\n",
    "\n",
    "# Draw the 100th waveform in the file\n",
    "browser.draw_entry(100)\n",
    "\n",
    "# To draw multiple figures in a single cell, you must explicitly create a new one:\n",
    "browser.new_figure()\n",
    "browser.draw_entry([200, 300, 400])"
   ]
  },
  {
   "cell_type": "code",
   "execution_count": null,
   "metadata": {},
   "outputs": [],
   "source": [
    "# Draw the next waveform in the file. You can run this cell multiple times to scroll through many WFs\n",
    "browser.draw_next()"
   ]
  },
  {
   "cell_type": "markdown",
   "metadata": {},
   "source": [
    "## Example 2\n",
    "Ok, that was nice, but how often do we just want to scroll through all of our waveforms?\n",
    "\n",
    "For our next example, we will select a population of waveforms from within the files, and draw multiple at once. Selecting a population of events to draw uses the same syntax as numpy and pandas, and can be done either with a list of entries or a boolean numpy array. This selection can be made using data from a dsp or hit hit file.\n",
    "\n",
    "We will also learn how to set a few other properties of the figure"
   ]
  },
  {
   "cell_type": "code",
   "execution_count": null,
   "metadata": {},
   "outputs": [],
   "source": [
    "# First, load a dataframe from a DSP file that we can use to make our selection:\n",
    "print(dsp_files)\n",
    "df = lh5.load_dfs(dsp_files, ['trapEmax', 'AoE'], channel+'/dsp', verbose=True)"
   ]
  },
  {
   "cell_type": "code",
   "execution_count": null,
   "metadata": {},
   "outputs": [],
   "source": [
    "# Create a selection mask around the 2614 keV peak\n",
    "trapE = df['trapEmax']\n",
    "energy_selection = (trapE>13100) & (trapE<13400)\n",
    "\n",
    "trapE.hist(bins=1000, range=(0, 30000))\n",
    "trapE[energy_selection].hist(bins=1000, range=(0, 30000))\n",
    "plt.yscale('log')"
   ]
  },
  {
   "cell_type": "code",
   "execution_count": null,
   "metadata": {},
   "outputs": [],
   "source": [
    "# Now construct a WaveformBrowser with this cut\n",
    "browser = WaveformBrowser(raw_files, channel+'/raw',\n",
    "                          verbosity   = 0,                  # Silence output on construction\n",
    "                          aux_values  = df,\n",
    "                          legend      = 'energy={trapEmax}',       # Values to put in the legend\n",
    "                          x_lim       = (22000, 30000),     # Range for time-axis\n",
    "                          entry_mask  = energy_selection ,  # Apply cut\n",
    "                          n_drawn     = 10                  # number to draw for draw_next\n",
    "                         )\n",
    "# Draw the next 5 batches of 10 waveforms, and move the legend outside\n",
    "for entries, i in zip(browser, range(5)):\n",
    "    print(\"Entries:\", entries)\n",
    "    browser.new_figure()\n",
    "    #plt.pause(1) # If you can use interactive plots (i.e. not on nersc), you can comment the above line and uncomment this one to draw a slideshow!\n"
   ]
  },
  {
   "cell_type": "markdown",
   "metadata": {},
   "source": [
    "## Example 3\n",
    "Now, we'll shift from drawing populations of waveforms to drawing waveform transforms. We can draw any waveforms that are defined in a DSP JSON configuration file. This is useful for debugging purposes and for developing processors. We will draw the baseline subtracted WF, pole-zero corrected WF, and trapezoidal filter WF. We will also draw horizontal and vertical lines for trapE (the max of the trapezoid) and tp_0 (our estimate of the start of the waveform's rise). The browser will determine whether these lines should be horizontal or vertical based on the unit."
   ]
  },
  {
   "cell_type": "code",
   "execution_count": null,
   "metadata": {},
   "outputs": [],
   "source": [
    "browser = WaveformBrowser(raw_files, channel+'/raw',\n",
    "                          dsp_config=dsp_config_file, # Need to include a dsp config file!\n",
    "                          database={\"pz_const\":'396.9*us'}, # TODO: use metadata instead of manually defining...\n",
    "                          lines=['wf_blsub', 'wf_pz', 'wf_trap', 'trapEmax', 'tp_0'], # names of waveforms from dsp config file\n",
    "                          styles=[{'ls':['-'], 'c':['orange']},\n",
    "                                  {'ls':[':'], 'c':['green']},\n",
    "                                  {'ls':['--'], 'c':['blue']},\n",
    "                                  {'lw':[0.5], 'c':['black']},\n",
    "                                  {'lw':[0.5], 'c':['red']}],\n",
    "                          legend=['Waveform', 'PZ Corrected', \"Trap Filter\", 'Trap Max={trapEmax}', 't0={tp_0}'],\n",
    "                          legend_opts={'loc':\"upper left\"},\n",
    "                          x_lim=('15*us', '50*us') # x axis range\n",
    "                         )"
   ]
  },
  {
   "cell_type": "code",
   "execution_count": null,
   "metadata": {},
   "outputs": [],
   "source": [
    "browser.draw_next()"
   ]
  },
  {
   "cell_type": "markdown",
   "metadata": {},
   "source": [
    "## Example 4\n",
    "Here's a more advanced example that combines the previous 2. We will draw waveforms from multiple populations for the sake of comparison. This will require creating two separate waveform browsers and drawing them onto the same axes. We'll also normalize and baseline subtract the waveforms from parameters in a DSP file. Finally, we'll add some formatting options to the lines and legend."
   ]
  },
  {
   "cell_type": "code",
   "execution_count": null,
   "metadata": {},
   "outputs": [],
   "source": [
    "AoE = df['AoE']\n",
    "aoe_cut = (AoE<0.045) & energy_selection\n",
    "aoe_accept = (AoE>0.045) & energy_selection\n",
    "\n",
    "AoE[aoe_accept].hist(bins=200, range=(-0, 0.1))\n",
    "AoE[aoe_cut].hist(bins=200, range=(-0, 0.1))\n",
    "# Use the lpgta dsp json file. TODO: get this from DataGroup\n",
    "# dsp_config_file = os.path.expandvars(\"$HOME/pygama/experiments/lpgta/LPGTA_dsp.json\")\n",
    "dsp_config_file = os.path.expandvars(\"./metadata/LPGTA_dsp.json\")\n"
   ]
  },
  {
   "cell_type": "code",
   "execution_count": null,
   "metadata": {},
   "outputs": [],
   "source": [
    "browser1 = WaveformBrowser(raw_files, channel+'/raw',\n",
    "                           dsp_config  = dsp_config_file, # include so we can do bl subtraction\n",
    "                           lines       = 'wf_blsub',\n",
    "                           norm        = 'trapEmax',        # normalize wfs\n",
    "                           verbosity   = 0,                 # Silence output on construction\n",
    "                           styles      = {'color':['red', 'orange', 'salmon', 'magenta']}, # set a color cycle for this\n",
    "                           legend      = \"E={trapEmax} ADC, A/E={AoE:~.3f}\", # Formatted values to put in the legend\n",
    "                           entry_mask  = aoe_cut,           # Apply cut\n",
    "                           n_drawn     = 4                  # number to draw for draw_next\n",
    "                          )\n",
    "\n",
    "browser2 = WaveformBrowser(raw_files, channel+'/raw',\n",
    "                           dsp_config  = dsp_config_file, # include so we can do bl subtraction\n",
    "                           lines       = 'wf_blsub',\n",
    "                           norm        = 'trapEmax',        # normalize wfs\n",
    "                           verbosity   = 0,                 # Silence output on construction\n",
    "                           styles      = {'color':['blue', 'navy', 'cyan', 'teal']}, # set a color cycle for this\n",
    "                           legend      = \"E={trapEmax} ADC, A/E={AoE:~.3f}\", # Formatted values to put in the legend\n",
    "                           legend_opts = {'loc':\"center\",'bbox_to_anchor':(1,0.35)}, # set options for drawing the legend\n",
    "                           x_lim       = (26500, 28000),    # Range for time-axis\n",
    "                           entry_mask  = aoe_accept,           # Apply cut\n",
    "                           n_drawn     = 4                  # number to draw for draw_next\n",
    "                          )"
   ]
  },
  {
   "cell_type": "code",
   "execution_count": null,
   "metadata": {},
   "outputs": [],
   "source": [
    "browser1.draw_next()\n",
    "browser2.set_figure(browser1) # use the same figure/axis as the other browser\n",
    "browser2.draw_next(clear=False) # Set clear to false to draw on the same axis!"
   ]
  },
  {
   "cell_type": "markdown",
   "metadata": {},
   "source": [
    "## Example 5\n",
    "\n",
    "The waveforms, lines and legend entries are all stored inside of the waveform browser. Sometimes you want to access these directly; maybe you want to access the raw data, or do control the lines in a way not enabled by the WaveformBrowser interface. It is possible to access them quickly and easily. Waveforms and legend values are stored as a dict from the parameter name to a list of stored values.\n",
    "- The waveforms are as a list of matplotlib Line2D artists\n",
    "- Horizontal and vertical lines are also stored as Line2D artists\n",
    "- Legend entries are stored as pint Quanitities\n",
    "\n",
    "When accessing waveforms in this way, you can also do the same things previously shown, such as applying a data cut and grabbing processed waveforms. For this example, we are going to get waveforms, trap-waveforms and trap energies, after applying an A/E cut. We will simply print them, but the possibility exists to do more!"
   ]
  },
  {
   "cell_type": "code",
   "execution_count": null,
   "metadata": {},
   "outputs": [],
   "source": [
    "browser = WaveformBrowser(raw_files, channel+'/raw',\n",
    "                          dsp_config = dsp_config_file,                # Need to include a dsp config file!\n",
    "                          database   = {\"pz_const\":'396.9*us'},        # TODO: use metadata instead of manually defining...\n",
    "                          lines      = ['waveform', 'wf_trap'],        # names of waveforms from dsp config file\n",
    "                          legend     = ['{trapEmax}'],\n",
    "                          entry_mask = aoe_accept,                     # apply A/E cut\n",
    "                          n_drawn    = 5                               # get five at a time\n",
    "                         )"
   ]
  },
  {
   "cell_type": "code",
   "execution_count": null,
   "metadata": {},
   "outputs": [],
   "source": [
    "browser.find_next()\n",
    "waveforms = browser.lines['waveform']\n",
    "traps = browser.lines['wf_trap']\n",
    "energies = browser.legend_vals['trapEmax']\n",
    "for wf, trap, en in zip(waveforms, traps, energies):\n",
    "    print(\"Raw waveform:\", wf.get_ydata())\n",
    "    print(\"Trap-filtered waveform:\", trap.get_ydata())\n",
    "    print(\"TrapEmax:\", en)\n",
    "    print()"
   ]
  }
 ],
 "metadata": {},
 "nbformat": 4,
 "nbformat_minor": 4
}
