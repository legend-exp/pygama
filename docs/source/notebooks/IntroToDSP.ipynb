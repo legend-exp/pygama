{
 "cells": [
  {
   "cell_type": "markdown",
   "metadata": {},
   "source": [
    "# Introduction to Digital Signal Processing\n",
    "\n",
    "This notebook will provide a brief introduction to a few of LEGEND's bread and butter digital signal processing filters. These processors will be applied in sequence to digitized waveforms that are recorded to disk, and a brief explanation of why we use them is provided. The parameters of each processor may be varied as well in order to see the affects that they have.\n",
    "\n",
    "Recommended reading is *Radiation Detection and Measurement* by Glenn F. Knoll, Chapter 17, which introduces many pulse-shaping concepts (although, from a hardware-perspective more than a digital signal processing perspective; even so, the concepts are similar).\n",
    "\n",
    "### Set up the Python environment\n",
    "\n",
    "It is recommended that you use a file from the [LEGEND test-data repository](https://github.com/legend-exp/legend-testdata); you may need to change `data_file` if you want to run this notebook yourself. We use the [Python wrapper of the test-data repository](https://github.com/legend-exp/legend-testdata-py)."
   ]
  },
  {
   "cell_type": "code",
   "execution_count": null,
   "metadata": {},
   "outputs": [],
   "source": [
    "from pygama.lgdo import LH5Store, ls, show, load_dfs\n",
    "from pygama.vis import WaveformBrowser\n",
    "from pygama.math import units\n",
    "from pygama.dsp import build_dsp\n",
    "\n",
    "import matplotlib.pyplot as plt\n",
    "import os\n",
    "from legend_testdata import LegendTestData\n",
    "\n",
    "ldata = LegendTestData()\n",
    "data_file = ldata.get_path(\"lh5/LDQTA_r117_20200110T105115Z_cal_geds_raw.lh5\")\n",
    "entry_no = 2  # which waveform in our example data_file to use for plotting\n",
    "\n",
    "plt.rcParams[\"figure.figsize\"] = (14, 4)\n",
    "plt.rcParams[\"figure.facecolor\"] = \"white\"\n",
    "plt.rcParams[\"font.size\"] = 12"
   ]
  },
  {
   "cell_type": "markdown",
   "metadata": {},
   "source": [
    "### Processor Setup\n",
    "\n",
    "This next panel defines all of the processors that we are going to run. Normally this is done in a JSON file in almost the exact same format shown here [[here's a detailed specification]](https://pygama.readthedocs.io/en/stable/api/pygama.dsp.html#pygama.dsp.processing_chain.build_processing_chain). You are encouraged to try changing some of the values in these processors to see the effect on the analysis."
   ]
  },
  {
   "cell_type": "code",
   "execution_count": null,
   "metadata": {},
   "outputs": [],
   "source": [
    "dsp_config = {\n",
    "    \"outputs\": [\n",
    "        \"timestamp\",\n",
    "        \"channel\",\n",
    "        \"trapEmax\",\n",
    "        \"trapTmax\",\n",
    "        \"tp_0\",\n",
    "        \"ftp\",\n",
    "        \"trapEftp\",\n",
    "        \"bl\",\n",
    "        \"bl_sig\",\n",
    "        \"A_gaus\",\n",
    "    ],\n",
    "    \"processors\": {\n",
    "        \"max_index\": {\n",
    "            \"function\": \"argmax\",\n",
    "            \"module\": \"numpy\",\n",
    "            \"args\": [\"waveform\", 1, \"max_index\"],\n",
    "            \"kwargs\": {\"signature\": \"(n),()->()\", \"types\": [\"fi->i\"]},\n",
    "            \"unit\": \"ADC\",\n",
    "        },\n",
    "        \"bl, bl_sig, slope, intercept\": {\n",
    "            \"function\": \"linear_slope_fit\",\n",
    "            \"module\": \"pygama.dsp.processors\",\n",
    "            \"args\": [\"waveform[:1650]\", \"bl\", \"bl_sig\", \"slope\", \"intercept\"],\n",
    "            \"unit\": [\"ADC\", \"ADC\", \"ADC\", \"ADC\"],\n",
    "        },\n",
    "        \"wf_blsub\": {\n",
    "            \"function\": \"subtract\",\n",
    "            \"module\": \"numpy\",\n",
    "            \"args\": [\"waveform\", \"bl\", \"wf_blsub\"],\n",
    "            \"unit\": \"ADC\",\n",
    "        },\n",
    "        \"wf_pz\": {\n",
    "            \"function\": \"pole_zero\",\n",
    "            \"module\": \"pygama.dsp.processors\",\n",
    "            \"args\": [\"wf_blsub\", \"180*us\", \"wf_pz\"],\n",
    "            \"unit\": \"ADC\",\n",
    "        },\n",
    "        \"wf_trap\": {\n",
    "            \"function\": \"trap_norm\",\n",
    "            \"module\": \"pygama.dsp.processors\",\n",
    "            \"args\": [\"wf_pz\", \"8*us\", \"2*us\", \"wf_trap\"],\n",
    "            \"unit\": \"ADC\",\n",
    "        },\n",
    "        \"trapEmax\": {\n",
    "            \"function\": \"amax\",\n",
    "            \"module\": \"numpy\",\n",
    "            \"args\": [\"wf_trap\", 1, \"trapEmax\"],\n",
    "            \"kwargs\": {\"signature\": \"(n),()->()\", \"types\": [\"fi->f\"]},\n",
    "            \"unit\": \"ADC\",\n",
    "        },\n",
    "        \"trapTmax\": {\n",
    "            \"function\": \"argmax\",\n",
    "            \"module\": \"numpy\",\n",
    "            \"args\": [\"wf_trap\", 1, \"trapTmax\"],\n",
    "            \"kwargs\": {\"signature\": \"(n),()->()\", \"types\": [\"fi->i\"]},\n",
    "            \"unit\": \"ns\",\n",
    "        },\n",
    "        \"wf_atrap\": {\n",
    "            \"function\": \"asym_trap_filter\",\n",
    "            \"module\": \"pygama.dsp.processors\",\n",
    "            \"args\": [\n",
    "                \"wf_pz\",\n",
    "                \"0.1*us\",\n",
    "                \"1*us\",\n",
    "                \"3*us\",\n",
    "                \"wf_atrap\",\n",
    "            ],  # rising edge, flat section, falling edge\n",
    "            \"unit\": \"ADC\",\n",
    "        },\n",
    "        \"tmax\": {\n",
    "            \"function\": \"argmax\",\n",
    "            \"module\": \"numpy\",\n",
    "            \"args\": [\"wf_atrap\", 1, \"tmax\"],\n",
    "            \"kwargs\": {\"signature\": \"(n),()->()\", \"types\": [\"fi->i\"]},\n",
    "            \"unit\": \"ns\",\n",
    "        },\n",
    "        \"tp_0\": {\n",
    "            \"function\": \"time_point_thresh\",\n",
    "            \"module\": \"pygama.dsp.processors\",\n",
    "            \"args\": [\"wf_atrap\", 0, \"tmax\", 0, \"tp_0\"],\n",
    "            \"unit\": \"ns\",\n",
    "        },\n",
    "        \"ftp\": {\n",
    "            \"function\": \"add\",\n",
    "            \"module\": \"numpy\",\n",
    "            \"args\": [\"tp_0\", \"2*us+8*us-256*ns\", \"ftp\"],\n",
    "            \"unit\": \"ns\",\n",
    "        },\n",
    "        \"trapEftp\": {\n",
    "            \"function\": \"fixed_time_pickoff\",\n",
    "            \"module\": \"pygama.dsp.processors\",\n",
    "            \"args\": [\"wf_trap\", \"ftp\", \"105\", \"trapEftp\"],  # ord('i') == 105\n",
    "            \"unit\": \"ADC\",\n",
    "        },\n",
    "        \"curr\": {\n",
    "            \"function\": \"avg_current\",\n",
    "            \"module\": \"pygama.dsp.processors\",\n",
    "            \"args\": [\"wf_pz\", 1, \"curr(len(wf_pz)-1, 'f', period=waveform.period)\"],\n",
    "            \"unit\": \"ADC/sample\",\n",
    "        },\n",
    "        \"curr_gaus\": {\n",
    "            \"function\": \"gaussian_filter1d\",\n",
    "            \"module\": \"pygama.dsp.processors\",\n",
    "            \"args\": [\"curr\", \"curr_gaus(len(curr), 'f', period=waveform.period)\"],\n",
    "            \"init_args\": [\"50\", \"4\"],\n",
    "            \"unit\": \"ADC/sample\",\n",
    "        },\n",
    "        \"A_gaus\": {\n",
    "            \"function\": \"amax\",\n",
    "            \"module\": \"numpy\",\n",
    "            \"args\": [\"curr_gaus\", 1, \"A_gaus\"],\n",
    "            \"kwargs\": {\"signature\": \"(n),()->()\", \"types\": [\"fi->f\"]},\n",
    "            \"unit\": \"ADC/sample\",\n",
    "        },\n",
    "    },\n",
    "}"
   ]
  },
  {
   "cell_type": "markdown",
   "metadata": {},
   "source": [
    "### Plotting Processors via `WaveformBrowser`\n",
    "\n",
    "In the next cells, we will use the `WaveformBrowser` [[docs]](https://pygama.readthedocs.io/en/stable/api/pygama.vis.html#pygama.vis.waveform_browser.WaveformBrowser) function to visualize the various processors that are calculated in the config file. See the [WaveformBrowser tutorial](https://pygama.readthedocs.io/en/stable/notebooks/WaveformBrowser.html) for more info.\n",
    "\n",
    "#### Raw Waveform\n",
    "This is a waveform as produced by a flashcam digitizer. The waveform can be divided into three regions; first, the baseline, the flat part up to ~45000 ns. Next the rising edge, where it increases at ~45000 ns. Lastly, the falling tail, which is an approximately exponential return to baseline that begins after ~45000 ns.\n",
    "\n",
    "Note that, in the below, we do not specify the `lines` keyword argument, as is done in subsequent cells. The default behavior in this case is to plot the raw waveform."
   ]
  },
  {
   "cell_type": "code",
   "execution_count": null,
   "metadata": {},
   "outputs": [],
   "source": [
    "browser = WaveformBrowser(\n",
    "    data_file,\n",
    "    \"geds/raw\",\n",
    "    styles=[\n",
    "        {\"color\": [\"skyblue\"], \"ls\": [\"dotted\"]},\n",
    "    ],\n",
    ")\n",
    "browser.draw_entry(entry_no)"
   ]
  },
  {
   "cell_type": "markdown",
   "metadata": {},
   "source": [
    "#### Baseline Subtraction\n",
    "The first processors applied perform baseline subtraction. First we measure the baseline using the first 1650 samples of the waveform, and then we subtract the baseline from each sample."
   ]
  },
  {
   "cell_type": "code",
   "execution_count": null,
   "metadata": {},
   "outputs": [],
   "source": [
    "browser = WaveformBrowser(\n",
    "    data_file,\n",
    "    \"geds/raw\",\n",
    "    dsp_config=dsp_config,\n",
    "    lines=[\"waveform\", \"wf_blsub\"],\n",
    "    styles=[\n",
    "        {\"color\": [\"skyblue\"], \"ls\": [\"dotted\"]},\n",
    "        {\"color\": [\"r\"]},\n",
    "    ],\n",
    ")\n",
    "browser.draw_entry(entry_no)"
   ]
  },
  {
   "cell_type": "markdown",
   "metadata": {},
   "source": [
    "#### Pole-Zero Correction\n",
    "The next step is to correct our waveform for the electronics response, which produces the exponential shape characteristic of our waveforms. The goal of this transform is to return a waveform with a perfectly flat tail. The pole-zero correction assumes a simple electronics response characterized by a single RC constant (in this case 180 microseconds). In reality, our electronics can be characterized by multiple RC constants; as a result we do not achieve a perfectly flat top, but by applying more complex transforms at this step we can improve things. The pole-zero applied here is close enough for most applications, though.\n",
    "\n",
    "Knoll chapter 17 sec. 7B gives a more complete description."
   ]
  },
  {
   "cell_type": "code",
   "execution_count": null,
   "metadata": {},
   "outputs": [],
   "source": [
    "browser = WaveformBrowser(\n",
    "    data_file,\n",
    "    \"geds/raw\",\n",
    "    dsp_config=dsp_config,\n",
    "    lines=[\"wf_blsub\", \"wf_pz\"],\n",
    "    styles=[\n",
    "        {\"color\": [\"skyblue\"], \"ls\": [\":\"]},\n",
    "        {\"color\": [\"r\"]},\n",
    "    ],\n",
    "    x_lim=(\"40*us\", \"70*us\"),\n",
    ")\n",
    "browser.draw_entry(entry_no)"
   ]
  },
  {
   "cell_type": "markdown",
   "metadata": {},
   "source": [
    "#### Trapezoidal Filter\n",
    "The trapezoidal filter is a nearly optimal filter that is used to extract pulse amplitude for a variety of applications. The trapezoid is the difference, at each point, between the average over two sets of samples separated by a short time. It can be characterized by:\n",
    "\n",
    "- **Integration time**: number of samples averaged, and the length of the rising and falling edges of the trapezoid. We use 8 microseconds here. A longer integration time will reduce the effect of noise on our energy measurement (up to a limit that depends on low frequency noise; it also can't be too long for the number of samples collected).\n",
    "- **Flat top time**: the separation between the integration regions, and the length of the flat top of the trapezoid. This should be longer than the rising edge of the waveform; if it is not, the top will not be totally flat and we will measure a reduction in the charge called \"ballistic deficit.\" We also don't want the flat top to be too long, or else low frequency noise will degrade our resolution. Here, we use 2 us as our flat top time.\n",
    "\n",
    "Knoll Chapter 17 Sec. 7 has a description of trapezoidal shaping."
   ]
  },
  {
   "cell_type": "code",
   "execution_count": null,
   "metadata": {},
   "outputs": [],
   "source": [
    "browser = WaveformBrowser(\n",
    "    data_file,\n",
    "    \"geds/raw\",\n",
    "    dsp_config=dsp_config,\n",
    "    lines=[\"wf_pz\", \"wf_trap\"],\n",
    "    styles=[\n",
    "        {\"color\": [\"skyblue\"], \"ls\": [\":\"]},\n",
    "        {\"color\": [\"r\"]},\n",
    "    ],\n",
    "    x_lim=(\"40*us\", \"70*us\"),\n",
    ")\n",
    "browser.draw_entry(entry_no)"
   ]
  },
  {
   "cell_type": "markdown",
   "metadata": {},
   "source": [
    "#### Energy estimation: trap-max\n",
    "The most common way to measure uncalibrated energy is to use the maximum of the trapezoidal filter. This works fairly well, assuming you have a nice flat top; however, due to our imperfect pole-zero correction, this can result in a degradation in our energy resolution."
   ]
  },
  {
   "cell_type": "code",
   "execution_count": null,
   "metadata": {},
   "outputs": [],
   "source": [
    "browser = WaveformBrowser(\n",
    "    data_file,\n",
    "    \"geds/raw\",\n",
    "    dsp_config=dsp_config,\n",
    "    lines=[\"wf_trap\", \"trapEmax\", \"trapTmax\"],\n",
    "    styles=[\n",
    "        {\"color\": [\"r\"]},\n",
    "        {\"color\": [\"b\"]},\n",
    "        {\"color\": [\"b\"]},\n",
    "    ],\n",
    "    x_lim=(\"40*us\", \"70*us\"),\n",
    ")\n",
    "browser.draw_entry(entry_no)"
   ]
  },
  {
   "cell_type": "markdown",
   "metadata": {},
   "source": [
    "#### Energy estimation: fixed time pick-off\n",
    "Another way to measure energy is to pick-off the amplitude of the trapezoidal filter at a fixed time relative to the start of the waveform. The fixed time should fall on the flat top of the waveform, with enough padding to avoid ballistic deficit, and to prevent noise in the start time from pushing the pick-off time onto the falling edge of the waveform. We choose a pickoff time 0.25 microseconds before the falling edge begins. This technique also requires an accurate measurement of the start time ($t_0$) of the waveform (see next section)."
   ]
  },
  {
   "cell_type": "code",
   "execution_count": null,
   "metadata": {},
   "outputs": [],
   "source": [
    "browser = WaveformBrowser(\n",
    "    data_file,\n",
    "    \"geds/raw\",\n",
    "    dsp_config=dsp_config,\n",
    "    lines=[\"wf_trap\", \"tp_0\", \"ftp\", \"trapEftp\"],\n",
    "    styles=[\n",
    "        {\"color\": [\"r\"]},\n",
    "        {\"color\": [\"b\"]},\n",
    "        {\"color\": [\"g\"]},\n",
    "        {\"color\": [\"g\"]},\n",
    "    ],\n",
    "    x_lim=(\"40*us\", \"70*us\"),\n",
    ")\n",
    "browser.draw_entry(entry_no)"
   ]
  },
  {
   "cell_type": "markdown",
   "metadata": {},
   "source": [
    "#### Start time measurement\n",
    "The start time ($t_0$) of the waveform must be measured in order to apply the fixed-time pickoff. We use the following technique to measure this:\n",
    "\n",
    "1. Apply an asymmetric trapezoidal filter, which uses a short integration time for the rising edge and a long integration time for the falling tail. The short rising edge has the advantage of preserving most timing information in the rising edge. The longer tail helps us correct for low frequency noise. Here, we use 0.1 / 1 / 3 microseconds as the rise / flat / fall times.\n",
    "\n",
    "2. Find the maximum of the asymmetric-trap, and walk back from there until we cross zero. The first sample that we cross this threshold is our $t_0$.\n",
    "\n",
    "An accurate $t_0$ is important both for the fixed-time pickoff, and for various drift-time corrections (such as for charge-trapping) that are not described in this notebook. While this filter is mostly reliable, it can occasionally fail for low signal-to-noise waveforms, or waveforms with large transiant blips in the noise."
   ]
  },
  {
   "cell_type": "code",
   "execution_count": null,
   "metadata": {},
   "outputs": [],
   "source": [
    "browser = WaveformBrowser(\n",
    "    data_file,\n",
    "    \"geds/raw\",\n",
    "    dsp_config=dsp_config,\n",
    "    lines=[\"wf_pz\", \"wf_atrap\", \"tp_0\"],\n",
    "    styles=[\n",
    "        {\"color\": [\"skyblue\"], \"ls\": [\":\"]},\n",
    "        {\"color\": [\"r\"]},\n",
    "        {\"color\": [\"g\"]},\n",
    "    ],\n",
    "    x_lim=(\"40*us\", \"70*us\"),\n",
    ")\n",
    "browser.draw_entry(entry_no)"
   ]
  },
  {
   "cell_type": "markdown",
   "metadata": {},
   "source": [
    "#### Current measurement\n",
    "Current is needed to measure $A/E$. This can be found using a simple derivative filter. However, the signal-to-noise using just the derivative can be quite high, so we often apply additional smoothing filters after (see next section)."
   ]
  },
  {
   "cell_type": "code",
   "execution_count": null,
   "metadata": {},
   "outputs": [],
   "source": [
    "browser = WaveformBrowser(\n",
    "    data_file,\n",
    "    \"geds/raw\",\n",
    "    dsp_config=dsp_config,\n",
    "    lines=[\n",
    "        \"wf_pz\",\n",
    "        \"curr\",\n",
    "    ],\n",
    "    styles=[\n",
    "        {\"color\": [\"skyblue\"], \"ls\": [\":\"]},\n",
    "        {\"color\": [\"r\"]},\n",
    "    ],\n",
    "    x_lim=(\"40*us\", \"70*us\"),\n",
    ")\n",
    "browser.draw_entry(entry_no)"
   ]
  },
  {
   "cell_type": "markdown",
   "metadata": {},
   "source": [
    "#### Gaussian-smoothed current\n",
    "One way we can improve the signal-to-noise ratio is by applying a gaussian filter. This is a convolution of our waveform with a gaussian kernel. While this reduces the impact of noise on our measurement, it also reduces the timing information in the rising edge, reducing the signal; as a result, we must find an optimal balance in our smoothing. Knoll chapter 17 Sec. 4 describes gaussian shaping.\n",
    "\n",
    "The current amplitude ($A$) is the maximum of the smoothed current waveform."
   ]
  },
  {
   "cell_type": "code",
   "execution_count": null,
   "metadata": {},
   "outputs": [],
   "source": [
    "browser = WaveformBrowser(\n",
    "    data_file,\n",
    "    \"geds/raw\",\n",
    "    dsp_config=dsp_config,\n",
    "    lines=[\"curr\", \"curr_gaus\", \"A_gaus\"],\n",
    "    styles=[{\"color\": [\"skyblue\"], \"ls\": [\":\"]}, {\"color\": [\"r\"]}, {\"color\": [\"g\"]}],\n",
    "    x_lim=(\"40*us\", \"70*us\"),\n",
    ")\n",
    "browser.draw_entry(entry_no)"
   ]
  },
  {
   "cell_type": "markdown",
   "metadata": {},
   "source": [
    "### Using `build_dsp()`\n",
    "\n",
    "At this point, we have used the `WaveformBrowser` to view the outputs of the various DSP calculations that were specified in our example `dsp_config` from earlier. However, we have not actually saved these outputs to any file. In `pygama`, this is done via the `build_dsp()` [[docs]](https://pygama.readthedocs.io/en/stable/api/pygama.dsp.html#pygama.dsp.build_dsp.build_dsp) function, which takes our raw example file, runs the processing chain, and saves the outputs to a new LH5 file, which we will simply name `example_dsp_file.lh5`.\n",
    "\n",
    "Let's build the DSP!"
   ]
  },
  {
   "cell_type": "code",
   "execution_count": null,
   "metadata": {},
   "outputs": [],
   "source": [
    "build_dsp(\n",
    "    data_file,\n",
    "    \"./example_dsp_file.lh5\",\n",
    "    dsp_config=dsp_config,\n",
    "    write_mode=\"r\",  # used to overwrite an existing file\n",
    ")"
   ]
  },
  {
   "cell_type": "markdown",
   "metadata": {},
   "source": [
    "We can now take a look at the contents of the new file, using either `ls()` [[docs]](https://pygama.readthedocs.io/en/stable/api/pygama.lgdo.html#pygama.lgdo.lh5_store.ls) or `show()` [[docs]](https://pygama.readthedocs.io/en/stable/api/pygama.lgdo.html#pygama.lgdo.lh5_store.show) from `pygama.lgdo` [[docs]](https://pygama.readthedocs.io/en/stable/api/pygama.lgdo.html). Working with LH5 files is discussed in further detail in the [LH5Files](https://pygama.readthedocs.io/en/stable/notebooks/LH5Files.html) tutorial, and we direct the reader there for more information."
   ]
  },
  {
   "cell_type": "code",
   "execution_count": null,
   "metadata": {},
   "outputs": [],
   "source": [
    "ls(\"example_dsp_file.lh5\")"
   ]
  },
  {
   "cell_type": "code",
   "execution_count": null,
   "metadata": {},
   "outputs": [],
   "source": [
    "show(\"example_dsp_file.lh5\")"
   ]
  },
  {
   "cell_type": "markdown",
   "metadata": {},
   "source": [
    "We see that we have indeed saved our output values in `dsp_config` to this new file. Lastly, let's access them to see the actual values, again as similarly done in the [LH5Files](https://pygama.readthedocs.io/en/stable/notebooks/LH5Files.html) tutorial."
   ]
  },
  {
   "cell_type": "code",
   "execution_count": null,
   "metadata": {},
   "outputs": [],
   "source": [
    "store = LH5Store()\n",
    "obj, nrows = store.read_object(\"geds/dsp\", \"./example_dsp_file.lh5\")\n",
    "print(\n",
    "    f\"We have saved the following list of outputs from our DSP routine: {list(obj.keys())}\"\n",
    ")\n",
    "print(\n",
    "    f\"There are {nrows} rows of values, corresponding to that same number of waveforms.\"\n",
    ")"
   ]
  },
  {
   "cell_type": "markdown",
   "metadata": {},
   "source": [
    "We see that the various outputs are in this file, and they have been calculated for 100 waveforms.\n",
    "\n",
    "To manipulate the various values, it is recommended to convert to a Pandas DataFrame, via the provided `load_dfs` [[docs]](https://pygama.readthedocs.io/en/stable/api/pygama.lgdo.html#pygama.lgdo.lh5_store.load_dfs) function, as show below. We load all of the outputs of the processors to a single DataFrame, specified by inputting the `'geds/dsp'` group in the LH5 file."
   ]
  },
  {
   "cell_type": "code",
   "execution_count": null,
   "metadata": {},
   "outputs": [],
   "source": [
    "load_dfs(\"./example_dsp_file.lh5\", obj.keys(), \"geds/dsp\")"
   ]
  },
  {
   "cell_type": "markdown",
   "metadata": {},
   "source": [
    "And from here, the user can plot various values, manipulate them in some way, or anything else. "
   ]
  }
 ],
 "metadata": {},
 "nbformat": 4,
 "nbformat_minor": 4
}
