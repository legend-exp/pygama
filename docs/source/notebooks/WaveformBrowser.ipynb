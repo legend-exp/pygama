{
 "cells": [
  {
   "cell_type": "markdown",
   "metadata": {},
   "source": [
    "# Browsing waveforms with the `WaveformBrowser`\n",
    "\n",
    "This is a tutorial demonstrating several ways to use the `WaveformBrowser` to examine waveform data. This will consist of multiple examples, increasing in complexity, and will use LEGEND test data from [legend-testdata](https://github.com/legend-exp/legend-testdata). The `WaveformBrowser` [[docs]](https://pygama.readthedocs.io/en/stable/api/pygama.vis.html#pygama.vis.waveform_browser.WaveformBrowser) is a pygama utility for accessing waveforms from raw files in an interactive way, enabling you to access, draw, or even process waveforms. Some use cases for this utility include investigating a population of waveforms, and debugging waveform processors.\n",
    "\n",
    "Why do we need a waveform browser when we can access data via Pandas dataframes? Pandas dataframes work extremely well for reading tables of simple values from multiple HDF5 files. However, they are less optimal for waveforms. The reason for this is that they require holding all waveforms in memory at once. If we want to look at waveforms spread out across multiple files, this can potentially take up GBs of memory, which will cause problems! To get around this, we want to load only bits of the files into memory at a time and pull out only what we need. Since this is an inconvenient process, the `WaveformBrowser` will do this for you, while hiding the details as much as possible.\n",
    "\n",
    "Let's start by importing necessary modules and test data:"
   ]
  },
  {
   "cell_type": "code",
   "execution_count": null,
   "metadata": {},
   "outputs": [],
   "source": [
    "%matplotlib inline\n",
    "\n",
    "import matplotlib.pyplot as plt\n",
    "import pandas as pd\n",
    "import numpy as np\n",
    "import os, json\n",
    "import pint\n",
    "\n",
    "u = pint.get_application_registry()\n",
    "\n",
    "import pygama.lgdo.lh5_store as lh5\n",
    "from pygama.vis.waveform_browser import WaveformBrowser\n",
    "from legend_testdata import LegendTestData\n",
    "\n",
    "ldata = LegendTestData()\n",
    "raw_file = ldata.get_path(\"lh5/LDQTA_r117_20200110T105115Z_cal_geds_raw.lh5\")\n",
    "\n",
    "plt.rcParams[\"figure.figsize\"] = (14, 4)\n",
    "plt.rcParams[\"figure.facecolor\"] = \"white\"\n",
    "plt.rcParams[\"font.size\"] = 14"
   ]
  },
  {
   "cell_type": "markdown",
   "metadata": {},
   "source": [
    "## Basic browsing\n",
    "\n",
    "First, a minimal example simply drawing waveforms from the raw file. Let's create a minimal browser and draw the 50th waveform:"
   ]
  },
  {
   "cell_type": "code",
   "execution_count": null,
   "metadata": {},
   "outputs": [],
   "source": [
    "browser = WaveformBrowser(raw_file, \"geds/raw\")\n",
    "browser.draw_entry(50)"
   ]
  },
  {
   "cell_type": "markdown",
   "metadata": {},
   "source": [
    "To draw multiple waveforms in a single figure, provide a list if indices:"
   ]
  },
  {
   "cell_type": "code",
   "execution_count": null,
   "metadata": {},
   "outputs": [],
   "source": [
    "browser.draw_entry([64, 82, 94])"
   ]
  },
  {
   "cell_type": "markdown",
   "metadata": {},
   "source": [
    "Now draw the next waveform in the file. You can run this cell multiple times to scroll through many waveforms:"
   ]
  },
  {
   "cell_type": "code",
   "execution_count": null,
   "metadata": {},
   "outputs": [],
   "source": [
    "browser.draw_next();"
   ]
  },
  {
   "cell_type": "markdown",
   "metadata": {},
   "source": [
    "## Filtering waveforms\n",
    "\n",
    "Ok, that was nice, but how often do we just want to scroll through all of our waveforms?\n",
    "\n",
    "For our next example, we will select a population of waveforms from within the files, and draw multiple at once. Selecting a population of events to draw uses the same syntax as NumPy and Pandas, and can be done either with a list of entries or a boolean NumPy array. This selection can be made using data from a DSP file (or higher tiers).\n",
    "\n",
    "We will also learn how to set a few other properties of the figure.\n",
    "\n",
    "Let's quickly produce a DSP file (see tutorial on running DSP):"
   ]
  },
  {
   "cell_type": "code",
   "execution_count": null,
   "metadata": {},
   "outputs": [],
   "source": [
    "from pygama.dsp import build_dsp\n",
    "\n",
    "dsp_file = \"LDQTA_r117_20200110T105115Z_cal_geds_dsp.lh5\"\n",
    "build_dsp(raw_file, dsp_file, \"metadata/dsp-config.json\", write_mode=\"r\")"
   ]
  },
  {
   "cell_type": "markdown",
   "metadata": {},
   "source": [
    "Now, we load a Pandas DataFrame from the file that we can use to make our selection:"
   ]
  },
  {
   "cell_type": "code",
   "execution_count": null,
   "metadata": {},
   "outputs": [],
   "source": [
    "from pygama.lgdo import load_dfs\n",
    "\n",
    "df = load_dfs(dsp_file, [\"trapEmax\", \"AoE\"], \"geds/dsp\")"
   ]
  },
  {
   "cell_type": "markdown",
   "metadata": {},
   "source": [
    "We use Pandas' querying syntax to create a selection mask around high energy events:"
   ]
  },
  {
   "cell_type": "code",
   "execution_count": null,
   "metadata": {},
   "outputs": [],
   "source": [
    "energy = df[\"trapEmax\"]\n",
    "energy_selection = (energy > 10000) & (energy < 30000)"
   ]
  },
  {
   "cell_type": "markdown",
   "metadata": {},
   "source": [
    "Let's have a look at them:"
   ]
  },
  {
   "cell_type": "code",
   "execution_count": null,
   "metadata": {},
   "outputs": [],
   "source": [
    "energy.hist(bins=200, range=(0, 30000))\n",
    "energy[energy_selection].hist(bins=200, range=(0, 30000))\n",
    "plt.xlabel(\"energy [a.u.]\");"
   ]
  },
  {
   "cell_type": "markdown",
   "metadata": {},
   "source": [
    "We then construct a `WaveformBrowser` with this cut:"
   ]
  },
  {
   "cell_type": "code",
   "execution_count": null,
   "metadata": {},
   "outputs": [],
   "source": [
    "browser = WaveformBrowser(\n",
    "    raw_file,\n",
    "    \"geds/raw\",\n",
    "    aux_values=df,\n",
    "    legend=\"E = {trapEmax}\",  # values to put in the legend\n",
    "    x_lim=(40 * u.us, 50 * u.us),  # range for time-axis\n",
    "    entry_mask=energy_selection,  # apply cut\n",
    "    n_drawn=5,  # number to draw for draw_next\n",
    ")"
   ]
  },
  {
   "cell_type": "markdown",
   "metadata": {},
   "source": [
    "And finally draw the next 5 batches of 10 waveforms:"
   ]
  },
  {
   "cell_type": "code",
   "execution_count": null,
   "metadata": {},
   "outputs": [],
   "source": [
    "for entries, i in zip(browser, range(2)):\n",
    "    browser.new_figure()"
   ]
  },
  {
   "cell_type": "markdown",
   "metadata": {},
   "source": [
    "If you can use interactive plots, you can replace `browser.new_figure()` with e.g. `plt.pause(1)` to draw a slideshow!"
   ]
  },
  {
   "cell_type": "markdown",
   "metadata": {},
   "source": [
    "## Visualizing waveform transforms\n",
    "\n",
    "Now, we'll shift from drawing populations of waveforms to drawing waveform transforms. We can draw any waveforms that are defined in a DSP JSON configuration file. This is useful for debugging purposes and for developing processors. We will draw the baseline subtracted waveform, pole-zero corrected waveform, and trapezoidal filter waveform. We will also draw horizontal and vertical lines for `trapE` (the maximum of the trapezoid) and `tp_0` (our estimate of the start of the waveform's rise). The browser will determine whether these lines should be horizontal or vertical based on the unit."
   ]
  },
  {
   "cell_type": "code",
   "execution_count": null,
   "metadata": {},
   "outputs": [],
   "source": [
    "browser = WaveformBrowser(\n",
    "    raw_file,\n",
    "    \"geds/raw\",\n",
    "    dsp_config=\"metadata/dsp-config.json\",  # Need to include a dsp config file!\n",
    "    database={\"pz_const\": \"180*us\"},\n",
    "    lines=[\n",
    "        \"wf_blsub\",\n",
    "        \"wf_pz\",\n",
    "        \"wf_trap\",\n",
    "        \"trapEmax\",\n",
    "        \"tp_0\",\n",
    "    ],  # names of waveforms from dsp config file\n",
    "    styles=[\n",
    "        {\"ls\": [\"-\"], \"c\": [\"orange\"]},\n",
    "        {\"ls\": [\":\"], \"c\": [\"green\"]},\n",
    "        {\"ls\": [\"--\"], \"c\": [\"blue\"]},\n",
    "        {\"lw\": [0.5], \"c\": [\"black\"]},\n",
    "        {\"lw\": [0.5], \"c\": [\"red\"]},\n",
    "    ],\n",
    "    legend=[\n",
    "        \"Waveform\",\n",
    "        \"PZ Corrected\",\n",
    "        \"Trap Filter\",\n",
    "        \"Trap Max = {trapEmax}\",\n",
    "        \"t0 = {tp_0}\",\n",
    "    ],\n",
    "    legend_opts={\"loc\": \"upper left\"},\n",
    "    x_lim=(\"35*us\", \"75*us\"),  # x axis range\n",
    ")"
   ]
  },
  {
   "cell_type": "code",
   "execution_count": null,
   "metadata": {},
   "outputs": [],
   "source": [
    "browser.draw_next();"
   ]
  },
  {
   "cell_type": "markdown",
   "metadata": {},
   "source": [
    "## Comparing waveforms\n",
    "\n",
    "Here's a more advanced example that combines the previous two. We will draw waveforms from multiple populations for the sake of comparison. This will require creating two separate browsers and drawing them onto the same axes. We'll also normalize and baseline-subtract the waveforms from parameters in a DSP file. Finally, we'll add some formatting options to the lines and legend.\n",
    "\n",
    "We start by selecting two sub-populations from the high-energy events from above by cutting on A/E:"
   ]
  },
  {
   "cell_type": "code",
   "execution_count": null,
   "metadata": {},
   "outputs": [],
   "source": [
    "aoe = df[\"AoE\"]\n",
    "aoe_cut = (aoe < 0.045) & energy_selection\n",
    "aoe_accept = (aoe > 0.045) & energy_selection\n",
    "\n",
    "aoe[aoe_accept].hist(bins=200, range=(0, 0.1))\n",
    "aoe[aoe_cut].hist(bins=200, range=(0, 0.1))\n",
    "plt.xlabel(\"A/E [a.u.]\");"
   ]
  },
  {
   "cell_type": "markdown",
   "metadata": {},
   "source": [
    "Now, we create two distinct browsers:"
   ]
  },
  {
   "cell_type": "code",
   "execution_count": null,
   "metadata": {},
   "outputs": [],
   "source": [
    "browser1 = WaveformBrowser(\n",
    "    raw_file,\n",
    "    \"geds/raw\",\n",
    "    dsp_config=\"metadata/dsp-config.json\",\n",
    "    lines=\"wf_blsub\",  # draw baseline subtracted waveform instead of the original\n",
    "    norm=\"trapEmax\",  # normalize waveforms based on amplitude\n",
    "    styles={\"color\": [\"red\", \"orange\"]},  # set a color cycle for this\n",
    "    legend=\"E = {trapEmax} ADC, A/E = {AoE:~.3f}\",  # formatted values to put in the legend\n",
    "    x_lim=(40 * u.us, 50 * u.us),\n",
    "    entry_mask=aoe_cut,  # apply the first cut\n",
    "    n_drawn=2,\n",
    ")\n",
    "browser2 = WaveformBrowser(\n",
    "    raw_file,\n",
    "    \"geds/raw\",\n",
    "    dsp_config=\"metadata/dsp-config.json\",\n",
    "    lines=\"wf_blsub\",\n",
    "    norm=\"trapEmax\",\n",
    "    styles={\"color\": [\"blue\", \"cyan\"]},\n",
    "    legend=\"E = {trapEmax} ADC, A/E = {AoE:~.3f}\",\n",
    "    legend_opts={\n",
    "        \"loc\": \"lower right\",\n",
    "        \"bbox_to_anchor\": (1, 0),\n",
    "    },  # set options for drawing the legend\n",
    "    x_lim=(40 * u.us, 50 * u.us),\n",
    "    entry_mask=aoe_accept,  # apply the other cut\n",
    "    n_drawn=2,\n",
    ")"
   ]
  },
  {
   "cell_type": "markdown",
   "metadata": {},
   "source": [
    "And draw!"
   ]
  },
  {
   "cell_type": "code",
   "execution_count": null,
   "metadata": {},
   "outputs": [],
   "source": [
    "browser1.draw_next()\n",
    "browser2.set_figure(browser1)  # use the same figure/axis as the other browser\n",
    "browser2.draw_next(clear=False);  # Set clear to false to draw on the same axis!"
   ]
  },
  {
   "cell_type": "markdown",
   "metadata": {},
   "source": [
    "## Direct access of waveforms and other quantities\n",
    "\n",
    "The waveforms, lines and legend entries are all stored inside of the waveform browser. Sometimes you want to access these directly; maybe you want to access the raw data, or do control the lines in a way not enabled by the `WaveformBrowser` interface. It is possible to access them quickly and easily.\n",
    "\n",
    "When accessing waveforms in this way, you can also do the same things previously shown, such as applying a data cut and grabbing processed waveforms. For this example, we are going to get waveforms, trap-waveforms and trap energies, after applying an A/E cut.\n",
    "\n",
    "Let's start by defining a browser object:"
   ]
  },
  {
   "cell_type": "code",
   "execution_count": null,
   "metadata": {},
   "outputs": [],
   "source": [
    "browser = WaveformBrowser(\n",
    "    raw_file,\n",
    "    \"geds/raw\",\n",
    "    dsp_config=\"metadata/dsp-config.json\",\n",
    "    database={\"pz_const\": \"180*us\"},\n",
    "    lines=[\"waveform\", \"wf_trap\"],\n",
    "    legend=[\"E = {trapEmax}\"],\n",
    "    entry_mask=aoe_accept,\n",
    "    n_drawn=2,\n",
    ")"
   ]
  },
  {
   "cell_type": "markdown",
   "metadata": {},
   "source": [
    "Waveforms and legend values are stored as a dictionary from the parameter name to a list of stored values:\n",
    "\n",
    "- The waveforms are as a list of matplotlib `Line2D` artists\n",
    "- Horizontal and vertical lines are also stored as `Line2D` artists\n",
    "- Legend entries are stored as pint `Quantities`\n",
    "\n",
    "Now, let's simply print them:"
   ]
  },
  {
   "cell_type": "code",
   "execution_count": null,
   "metadata": {},
   "outputs": [],
   "source": [
    "browser.find_next()\n",
    "waveforms = browser.lines[\"waveform\"]\n",
    "traps = browser.lines[\"wf_trap\"]\n",
    "energies = browser.legend_vals[\"trapEmax\"]\n",
    "for wf, trap, en in zip(waveforms, traps, energies):\n",
    "    print(\"Raw waveform:\", wf.get_ydata())\n",
    "    print(\"Trap-filtered waveform:\", trap.get_ydata())\n",
    "    print(\"TrapEmax:\", en)\n",
    "    print()"
   ]
  }
 ],
 "metadata": {},
 "nbformat": 4,
 "nbformat_minor": 4
}
