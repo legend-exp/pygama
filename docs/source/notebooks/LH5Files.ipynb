{
 "cells": [
  {
   "cell_type": "markdown",
   "id": "28a2ded5",
   "metadata": {},
   "source": [
    "# Handling LH5 data\n",
    "\n",
    "LEGEND stores its data in [HDF5](https://www.hdfgroup.org/solutions/hdf5) format, a high-performance data format becoming popular in experimental physics. LEGEND Data Objects (LGDO) are represented as HDF5 objects according to a custom specification, documented [here](https://legend-exp.github.io/legend-data-format-specs/dev/hdf5)."
   ]
  },
  {
   "cell_type": "markdown",
   "id": "701caca4",
   "metadata": {},
   "source": [
    "## Reading data from disk\n",
    "\n",
    "Let's start by downloading a small test LH5 file with the [legend-testdata](https://pypi.org/project/legend-testdata/) package (it takes a while depending on your internet connection):"
   ]
  },
  {
   "cell_type": "code",
   "execution_count": null,
   "id": "ce298181",
   "metadata": {},
   "outputs": [],
   "source": [
    "from legend_testdata import LegendTestData\n",
    "\n",
    "ldata = LegendTestData()\n",
    "lh5_file = ldata.get_path(\"lh5/LDQTA_r117_20200110T105115Z_cal_geds_raw.lh5\")"
   ]
  },
  {
   "cell_type": "markdown",
   "id": "c136b537",
   "metadata": {},
   "source": [
    "We can use `pygama.lgdo.lh5_store.ls()` [[docs]](https://pygama.readthedocs.io/en/stable/api/pygama.lgdo.html#pygama.lgdo.lh5_store.ls) to inspect the file contents:"
   ]
  },
  {
   "cell_type": "code",
   "execution_count": null,
   "id": "eb629856",
   "metadata": {},
   "outputs": [],
   "source": [
    "from pygama.lgdo import ls\n",
    "\n",
    "ls(lh5_file)"
   ]
  },
  {
   "cell_type": "markdown",
   "id": "890676b6",
   "metadata": {},
   "source": [
    "This particular file contains an HDF5 group (they behave like directories). The second argument of `ls()` can be used to inspect a group (without the trailing `/`, only the group name is returned, if existing):"
   ]
  },
  {
   "cell_type": "code",
   "execution_count": null,
   "id": "22218548",
   "metadata": {},
   "outputs": [],
   "source": [
    "ls(lh5_file, \"geds/\")  # returns ['geds/raw'], which is a group again\n",
    "ls(lh5_file, \"geds/raw/\")"
   ]
  },
  {
   "cell_type": "markdown",
   "id": "4fd29157",
   "metadata": {},
   "source": [
    "<div class=\"alert alert-info\">\n",
    "\n",
    "**Note:** Alternatively to `ls()`, `show()` [[docs]](https://pygama.readthedocs.io/en/stable/api/pygama.lgdo.html#pygama.lgdo.lh5_store.show) prints a nice representation of the LH5 file contents (with LGDO types) on screen:\n",
    "\n",
    "</div>"
   ]
  },
  {
   "cell_type": "code",
   "execution_count": null,
   "id": "a382fcbd",
   "metadata": {},
   "outputs": [],
   "source": [
    "from pygama.lgdo import show\n",
    "\n",
    "show(lh5_file)"
   ]
  },
  {
   "cell_type": "markdown",
   "id": "ef09f43c",
   "metadata": {},
   "source": [
    "The group contains several LGDOs. Let's read them in memory. We start by initializing an `LH5Store` [[docs]](https://pygama.readthedocs.io/en/stable/api/pygama.lgdo.html#pygama.lgdo.lh5_store.LH5Store) object:"
   ]
  },
  {
   "cell_type": "code",
   "execution_count": null,
   "id": "0f4e2525",
   "metadata": {},
   "outputs": [],
   "source": [
    "from pygama.lgdo import LH5Store\n",
    "\n",
    "store = LH5Store()"
   ]
  },
  {
   "cell_type": "markdown",
   "id": "60ce5b61",
   "metadata": {},
   "source": [
    "`read_object()` [[docs]](https://pygama.readthedocs.io/en/stable/api/pygama.lgdo.html#pygama.lgdo.lh5_store.LH5Store.read_object) reads an LGDO from disk and returns the object in memory together with the number of rows (as a tuple), if an object has such a property. Let's try to read `geds/raw`:"
   ]
  },
  {
   "cell_type": "code",
   "execution_count": null,
   "id": "5a8b9ca4",
   "metadata": {},
   "outputs": [],
   "source": [
    "store.read_object(\"geds/raw\", lh5_file)"
   ]
  },
  {
   "cell_type": "markdown",
   "id": "9efdb924",
   "metadata": {},
   "source": [
    "As shown by the type signature, it is interpreted as a `Table` with 100 rows. Its contents (or \"columns\") can be therefore viewed as LGDO objects of the same length. For example `timestamp`:"
   ]
  },
  {
   "cell_type": "code",
   "execution_count": null,
   "id": "da22855d",
   "metadata": {},
   "outputs": [],
   "source": [
    "obj, n_rows = store.read_object(\"geds/raw/timestamp\", lh5_file)\n",
    "obj"
   ]
  },
  {
   "cell_type": "markdown",
   "id": "f2c8ff34",
   "metadata": {},
   "source": [
    "is an LGDO `Array` with 100 elements.\n",
    "\n",
    "`read_object()` also allows to perform more advanced data reading. For example, let's read only rows from 15 to 25:"
   ]
  },
  {
   "cell_type": "code",
   "execution_count": null,
   "id": "ce246705",
   "metadata": {},
   "outputs": [],
   "source": [
    "obj, n_rows = store.read_object(\"geds/raw/timestamp\", lh5_file, start_row=15, n_rows=10)\n",
    "print(obj)"
   ]
  },
  {
   "cell_type": "markdown",
   "id": "195ebefd",
   "metadata": {},
   "source": [
    "Or, let's read only columns `timestamp` and `energy` from the `geds/raw` table and rows `[1, 3, 7, 9, 10, 15]`:"
   ]
  },
  {
   "cell_type": "code",
   "execution_count": null,
   "id": "eaa06ebe",
   "metadata": {},
   "outputs": [],
   "source": [
    "obj, n_rows = store.read_object(\n",
    "    \"geds/raw\", lh5_file, field_mask=(\"timestamp\", \"energy\"), idx=[1, 3, 7, 9, 10, 15]\n",
    ")\n",
    "print(obj)"
   ]
  },
  {
   "cell_type": "markdown",
   "id": "b3f52d77",
   "metadata": {},
   "source": [
    "As you might have noticed, `read_object()` loads all the requested data in memory at once. This can be a problem when dealing with large datasets. `LH5Iterator` [[docs]](https://pygama.readthedocs.io/en/stable/api/pygama.lgdo.html#pygama.lgdo.lh5_store.LH5Iterator) makes it possible to handle data one chunk at a time (sequentially) to avoid running out of memory:"
   ]
  },
  {
   "cell_type": "code",
   "execution_count": null,
   "id": "8f24d4e3",
   "metadata": {},
   "outputs": [],
   "source": [
    "from pygama.lgdo import LH5Iterator\n",
    "\n",
    "for lh5_obj, entry, n_rows in LH5Iterator(lh5_file, \"geds/raw/energy\", buffer_len=20):\n",
    "    print(f\"entry {entry}, energy = {lh5_obj} ({n_rows} rows)\")"
   ]
  },
  {
   "cell_type": "markdown",
   "id": "3ab3794c",
   "metadata": {},
   "source": [
    "## Writing data to disk\n",
    "\n",
    "Let's start by creating some LGDOs:"
   ]
  },
  {
   "cell_type": "code",
   "execution_count": null,
   "id": "aaf2d352",
   "metadata": {},
   "outputs": [],
   "source": [
    "from pygama.lgdo import Array, Scalar, WaveformTable\n",
    "import numpy as np\n",
    "\n",
    "rng = np.random.default_rng(12345)\n",
    "\n",
    "scalar = Scalar(\"made with pygama!\")\n",
    "array = Array(rng.random(size=10))\n",
    "wf_table = WaveformTable(values=rng.integers(low=1000, high=5000, size=(10, 1000)))"
   ]
  },
  {
   "cell_type": "markdown",
   "id": "cbfd91c2",
   "metadata": {},
   "source": [
    "The `write_object()` [[docs]](https://pygama.readthedocs.io/en/stable/api/pygama.lgdo.html#pygama.lgdo.lh5_store.LH5Store.write_object) method of `LH5Store` makes it possible to write LGDO objects on disk. Let's start by writing `scalar` with name `message` in a file named `my_data.lh5` in the current directory:"
   ]
  },
  {
   "cell_type": "code",
   "execution_count": null,
   "id": "5ad1d10e",
   "metadata": {},
   "outputs": [],
   "source": [
    "store = LH5Store()\n",
    "\n",
    "store.write_object(\n",
    "    scalar, name=\"message\", lh5_file=\"my_objects.lh5\", wo_mode=\"overwrite_file\"\n",
    ")"
   ]
  },
  {
   "cell_type": "markdown",
   "id": "430c2c7e",
   "metadata": {},
   "source": [
    "Let's now inspect the file contents:"
   ]
  },
  {
   "cell_type": "code",
   "execution_count": null,
   "id": "777d7daf",
   "metadata": {},
   "outputs": [],
   "source": [
    "from pygama.lgdo import show\n",
    "\n",
    "show(\"my_objects.lh5\")"
   ]
  },
  {
   "cell_type": "markdown",
   "id": "227bea86",
   "metadata": {},
   "source": [
    "The string object has been written at the root of the file `/`. Let's now write also `array` and `wf_table`, this time in a HDF5 group called `closet`:"
   ]
  },
  {
   "cell_type": "code",
   "execution_count": null,
   "id": "19c7703c",
   "metadata": {},
   "outputs": [],
   "source": [
    "store.write_object(array, name=\"numbers\", group=\"closet\", lh5_file=\"my_objects.lh5\")\n",
    "store.write_object(\n",
    "    wf_table, name=\"waveforms\", group=\"closet\", lh5_file=\"my_objects.lh5\"\n",
    ")\n",
    "show(\"my_objects.lh5\")"
   ]
  },
  {
   "cell_type": "markdown",
   "id": "e266c2ac",
   "metadata": {},
   "source": [
    "Everything looks right!\n",
    "\n",
    "<div class=\"alert alert-info\">\n",
    "\n",
    "**Note:** `write_objects()` allows for more advanced usage, like writing only some rows of the input object or appending to existing array-like structures. Have a look at the [[docs]](https://pygama.readthedocs.io/en/stable/api/pygama.lgdo.html#pygama.lgdo.lh5_store.LH5Store.write_object) for more information.\n",
    "\n",
    "</div>"
   ]
  }
 ],
 "metadata": {},
 "nbformat": 4,
 "nbformat_minor": 5
}
