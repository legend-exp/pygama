{
 "cells": [
  {
   "cell_type": "markdown",
   "id": "f7af04de-e930-4ad1-ae8f-92e5fbae2b43",
   "metadata": {},
   "source": [
    "This is just a quick example of how to read data in from the output of the \"processing.py\" file. \"processing.py\" returns a file named \"sipm_outputs.lh5\" \n",
    "the columns of this file correspond to the channels selected for processing. "
   ]
  },
  {
   "cell_type": "code",
   "execution_count": null,
   "id": "411d5a87-c125-4d59-a05d-bdfb2ccc379a",
   "metadata": {},
   "outputs": [],
   "source": [
    "import h5py\n",
    "import matplotlib.pyplot as plt"
   ]
  },
  {
   "cell_type": "code",
   "execution_count": null,
   "id": "f6621446-fbf4-4fa1-a5e3-aacc8fac5d28",
   "metadata": {},
   "outputs": [],
   "source": [
    "f = h5py.File(\"sipm_outputs.lh5\",'r') \n",
    "print(f'these are the keys within the file: {f.keys()}')\n",
    "\n",
    "# read in the waveform maxima and then histogram them\n",
    "wf_max = f['21']['wf_max'][()]\n",
    "\n",
    "plt.figure(figsize=(12,8))\n",
    "plt.hist(wf_max, bins=1000, range=[0,500], edgecolor=\"none\")\n",
    "plt.xlabel(\"Maximum Waveform Height (ADC)\")\n",
    "plt.ylabel(\"Counts\")\n",
    "plt.yscale(\"log\")"
   ]
  },
  {
   "cell_type": "code",
   "execution_count": null,
   "id": "38023cba-dd36-401e-ae1a-dec2a3469149",
   "metadata": {},
   "outputs": [],
   "source": [
    "# read in the integral of each waveform and then histogram them\n",
    "q_out = f['21']['q_out'][()]\n",
    "\n",
    "plt.figure(figsize=(12,8))\n",
    "plt.hist(q_out, bins=1000,range=[-1e4, 6e4], edgecolor=\"none\")\n",
    "plt.xlabel(\"Charge (ADC)\")\n",
    "plt.ylabel(\"Counts\")\n",
    "plt.yscale(\"log\")"
   ]
  },
  {
   "cell_type": "code",
   "execution_count": null,
   "id": "0d7647be-f805-4cb9-9ca9-b332f9ff4870",
   "metadata": {},
   "outputs": [],
   "source": [
    "# read in the time of the maximum of each waveform and then histogram them\n",
    "tp_max = f['21']['tp_max'][()]\n",
    "\n",
    "plt.figure(figsize=(12,8))\n",
    "plt.hist(tp_max, bins=1000, edgecolor=\"none\")\n",
    "plt.xlabel(\"Charge (ADC)\")\n",
    "plt.ylabel(\"Counts\")\n",
    "plt.yscale(\"log\")"
   ]
  }
 ],
 "metadata": {
  "language_info": {
   "name": "python"
  }
 },
 "nbformat": 4,
 "nbformat_minor": 5
}
