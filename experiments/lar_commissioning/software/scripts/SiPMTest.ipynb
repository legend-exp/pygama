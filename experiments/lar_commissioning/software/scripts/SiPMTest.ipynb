{
 "cells": [
  {
   "cell_type": "markdown",
   "id": "a18b7b84-6bbc-4e89-bcbf-d20e851ec520",
   "metadata": {},
   "source": [
    "# Data Processing and Access 101\n",
    "\n"
   ]
  },
  {
   "cell_type": "code",
   "execution_count": 6,
   "id": "6dab0cfd-4867-4836-b80a-d36f91d71909",
   "metadata": {},
   "outputs": [],
   "source": [
    "# Set up python environment\n",
    "from pygama.io.daq_to_raw import daq_to_raw\n",
    "from pygama.io.raw_to_dsp import raw_to_dsp\n",
    "from pygama.lh5.store import *\n",
    "\n",
    "\n",
    "daq_file = \"\"\n",
    "raw_file = \"/lfs/l1/legend/data/com/raw/sipmtest-202110/singles-amaj1-250usec-trace_raw.lh5\"\n",
    "dsp_file = \"\"\n",
    "\n",
    "dsp_config = \"\""
   ]
  },
  {
   "cell_type": "markdown",
   "id": "e8aa7e3d-8393-47f7-b0fc-0483648af5b0",
   "metadata": {},
   "source": [
    "## Inspecting the raw file\n",
    "\n",
    "Next, we'll look at the file output from daq_to_raw. The file is output using the LH5 specification, and can be accessed using the pygama.lh5.store module.\n",
    "\n",
    "First, we'll create a Store object, and call ls to list the contents of the hdf group containing our data. Then, we'll call load_dfs to create a pandas dataframe. Note that the pandas dataframe will not contain the waveforms."
   ]
  },
  {
   "cell_type": "code",
   "execution_count": 28,
   "id": "b640db89-baf5-47c6-9b4e-e71ee0c48c69",
   "metadata": {},
   "outputs": [
    {
     "name": "stdout",
     "output_type": "stream",
     "text": [
      "List of raw file elements:\n",
      "[]\n",
      "\n",
      "Data from file:\n",
      "loading data for /lfs/l1/legend/data/com/raw/sipmtest-202110/singles-amaj1-250usec-trace_raw.lh5\n",
      "          channel\n",
      "0               1\n",
      "1               7\n",
      "2              12\n",
      "3               0\n",
      "4               1\n",
      "...           ...\n",
      "11964997       14\n",
      "11964998       14\n",
      "11964999        2\n",
      "11965000       12\n",
      "11965001       13\n",
      "\n",
      "[11965002 rows x 1 columns]\n"
     ]
    }
   ],
   "source": [
    "lh5_st = Store()\n",
    "print(\"List of raw file elements:\")\n",
    "print(lh5_st.ls(raw_file, '/lfs/l1/legend/data/com/raw/sipmtest-202110/singles-amaj1-250usec-trace_raw.lh5'))\n",
    "\n",
    "print()\n",
    "print(\"Data from file:\")\n",
    "raw_df = load_dfs(raw_file, par_list =['channel'], lh5_group ='/spms/raw')\n",
    "print(raw_df)"
   ]
  },
  {
   "cell_type": "code",
   "execution_count": 42,
   "id": "b98aa8c2-9afd-4269-98a5-9caa8ca66507",
   "metadata": {},
   "outputs": [
    {
     "name": "stdout",
     "output_type": "stream",
     "text": [
      "Processing parameters: []\n",
      "Required input parameters: []\n",
      "Copied output parameters: ['wf_blsub']\n",
      "Processed output parameters: []\n"
     ]
    },
    {
     "ename": "UnboundLocalError",
     "evalue": "local variable 'input_par' referenced before assignment",
     "output_type": "error",
     "traceback": [
      "\u001b[0;31m---------------------------------------------------------------------------\u001b[0m",
      "\u001b[0;31mUnboundLocalError\u001b[0m                         Traceback (most recent call last)",
      "\u001b[0;32m<ipython-input-42-3257536e9891>\u001b[0m in \u001b[0;36m<module>\u001b[0;34m\u001b[0m\n\u001b[1;32m      5\u001b[0m \u001b[0mch\u001b[0m \u001b[0;34m=\u001b[0m \u001b[0mraw_df\u001b[0m\u001b[0;34m[\u001b[0m\u001b[0;34m'channel'\u001b[0m\u001b[0;34m]\u001b[0m\u001b[0;34m\u001b[0m\u001b[0;34m\u001b[0m\u001b[0m\n\u001b[1;32m      6\u001b[0m \u001b[0mch_sel\u001b[0m \u001b[0;34m=\u001b[0m \u001b[0mch\u001b[0m \u001b[0;34m==\u001b[0m \u001b[0;36m1\u001b[0m\u001b[0;34m\u001b[0m\u001b[0;34m\u001b[0m\u001b[0m\n\u001b[0;32m----> 7\u001b[0;31m \u001b[0mwb\u001b[0m \u001b[0;34m=\u001b[0m \u001b[0mWaveformBrowser\u001b[0m\u001b[0;34m(\u001b[0m\u001b[0mraw_file\u001b[0m\u001b[0;34m,\u001b[0m \u001b[0mlh5_group\u001b[0m\u001b[0;34m=\u001b[0m\u001b[0;34m'/spms/raw'\u001b[0m\u001b[0;34m,\u001b[0m \u001b[0mx_lim\u001b[0m\u001b[0;34m=\u001b[0m\u001b[0;34m(\u001b[0m\u001b[0;36m0\u001b[0m\u001b[0;34m,\u001b[0m \u001b[0;36m50000\u001b[0m\u001b[0;34m)\u001b[0m\u001b[0;34m,\u001b[0m \u001b[0my_lim\u001b[0m\u001b[0;34m=\u001b[0m\u001b[0;34m(\u001b[0m\u001b[0;34m-\u001b[0m\u001b[0;36m10\u001b[0m\u001b[0;34m,\u001b[0m \u001b[0;36m100\u001b[0m\u001b[0;34m)\u001b[0m\u001b[0;34m,\u001b[0m \u001b[0mwaveforms\u001b[0m\u001b[0;34m=\u001b[0m\u001b[0;34m[\u001b[0m\u001b[0;34m'wf_blsub'\u001b[0m\u001b[0;34m]\u001b[0m\u001b[0;34m,\u001b[0m \u001b[0mselection\u001b[0m\u001b[0;34m=\u001b[0m\u001b[0mch_sel\u001b[0m\u001b[0;34m,\u001b[0m \u001b[0mverbosity\u001b[0m\u001b[0;34m=\u001b[0m\u001b[0;36m1\u001b[0m\u001b[0;34m,\u001b[0m \u001b[0mn_drawn\u001b[0m\u001b[0;34m=\u001b[0m\u001b[0;36m1\u001b[0m\u001b[0;34m)\u001b[0m\u001b[0;34m\u001b[0m\u001b[0;34m\u001b[0m\u001b[0m\n\u001b[0m\u001b[1;32m      8\u001b[0m \u001b[0;34m\u001b[0m\u001b[0m\n\u001b[1;32m      9\u001b[0m \u001b[0mwb\u001b[0m\u001b[0;34m.\u001b[0m\u001b[0mdraw_next\u001b[0m\u001b[0;34m(\u001b[0m\u001b[0;34m)\u001b[0m\u001b[0;34m\u001b[0m\u001b[0;34m\u001b[0m\u001b[0m\n",
      "\u001b[0;32m/opt/legend-python/lib/python3.8/site-packages/pygama/dsp/WaveformBrowser.py\u001b[0m in \u001b[0;36m__init__\u001b[0;34m(self, files_in, lh5_group, dsp_config, database, n_drawn, x_unit, x_lim, y_lim, waveforms, wf_styles, lines, legend, legend_opts, norm, align, selection, buffer_len, block_width, verbosity)\u001b[0m\n\u001b[1;32m    166\u001b[0m         \u001b[0;32mif\u001b[0m \u001b[0misinstance\u001b[0m\u001b[0;34m(\u001b[0m\u001b[0mself\u001b[0m\u001b[0;34m.\u001b[0m\u001b[0malign_par\u001b[0m\u001b[0;34m,\u001b[0m \u001b[0mstr\u001b[0m\u001b[0;34m)\u001b[0m\u001b[0;34m:\u001b[0m \u001b[0moutputs\u001b[0m \u001b[0;34m+=\u001b[0m \u001b[0;34m[\u001b[0m\u001b[0mself\u001b[0m\u001b[0;34m.\u001b[0m\u001b[0malign_par\u001b[0m\u001b[0;34m]\u001b[0m\u001b[0;34m\u001b[0m\u001b[0;34m\u001b[0m\u001b[0m\n\u001b[1;32m    167\u001b[0m \u001b[0;34m\u001b[0m\u001b[0m\n\u001b[0;32m--> 168\u001b[0;31m         \u001b[0mself\u001b[0m\u001b[0;34m.\u001b[0m\u001b[0mproc_chain\u001b[0m\u001b[0;34m,\u001b[0m \u001b[0mself\u001b[0m\u001b[0;34m.\u001b[0m\u001b[0mfield_mask\u001b[0m\u001b[0;34m,\u001b[0m \u001b[0mself\u001b[0m\u001b[0;34m.\u001b[0m\u001b[0mlh5_out\u001b[0m \u001b[0;34m=\u001b[0m \u001b[0mbuild_processing_chain\u001b[0m\u001b[0;34m(\u001b[0m\u001b[0mself\u001b[0m\u001b[0;34m.\u001b[0m\u001b[0mlh5_in\u001b[0m\u001b[0;34m,\u001b[0m \u001b[0mdsp_config\u001b[0m\u001b[0;34m,\u001b[0m \u001b[0mdb_dict\u001b[0m\u001b[0;34m=\u001b[0m\u001b[0mdatabase\u001b[0m\u001b[0;34m,\u001b[0m \u001b[0moutputs\u001b[0m\u001b[0;34m=\u001b[0m\u001b[0moutputs\u001b[0m\u001b[0;34m,\u001b[0m \u001b[0mverbosity\u001b[0m\u001b[0;34m=\u001b[0m\u001b[0mself\u001b[0m\u001b[0;34m.\u001b[0m\u001b[0mverbosity\u001b[0m\u001b[0;34m,\u001b[0m \u001b[0mblock_width\u001b[0m\u001b[0;34m=\u001b[0m\u001b[0mblock_width\u001b[0m\u001b[0;34m)\u001b[0m\u001b[0;34m\u001b[0m\u001b[0;34m\u001b[0m\u001b[0m\n\u001b[0m\u001b[1;32m    169\u001b[0m \u001b[0;34m\u001b[0m\u001b[0m\n\u001b[1;32m    170\u001b[0m         \u001b[0mself\u001b[0m\u001b[0;34m.\u001b[0m\u001b[0mfig\u001b[0m \u001b[0;34m=\u001b[0m \u001b[0;32mNone\u001b[0m\u001b[0;34m\u001b[0m\u001b[0;34m\u001b[0m\u001b[0m\n",
      "\u001b[0;32m/opt/legend-python/lib/python3.8/site-packages/pygama/dsp/build_processing_chain.py\u001b[0m in \u001b[0;36mbuild_processing_chain\u001b[0;34m(lh5_in, dsp_config, db_dict, outputs, verbosity, block_width)\u001b[0m\n\u001b[1;32m    257\u001b[0m                     \u001b[0mproc_chain\u001b[0m\u001b[0;34m.\u001b[0m\u001b[0m_clk\u001b[0m \u001b[0;34m=\u001b[0m \u001b[0mclk\u001b[0m\u001b[0;34m\u001b[0m\u001b[0;34m\u001b[0m\u001b[0m\n\u001b[1;32m    258\u001b[0m         \u001b[0;32melse\u001b[0m\u001b[0;34m:\u001b[0m\u001b[0;34m\u001b[0m\u001b[0;34m\u001b[0m\u001b[0m\n\u001b[0;32m--> 259\u001b[0;31m             \u001b[0mprint\u001b[0m\u001b[0;34m(\u001b[0m\u001b[0;34m\"I don't know what to do with \"\u001b[0m \u001b[0;34m+\u001b[0m \u001b[0minput_par\u001b[0m \u001b[0;34m+\u001b[0m \u001b[0;34m\". Building output without it!\"\u001b[0m\u001b[0;34m)\u001b[0m\u001b[0;34m\u001b[0m\u001b[0;34m\u001b[0m\u001b[0m\n\u001b[0m\u001b[1;32m    260\u001b[0m \u001b[0;34m\u001b[0m\u001b[0m\n\u001b[1;32m    261\u001b[0m     \u001b[0;31m# finally, add the output buffers to lh5_out and the proc chain\u001b[0m\u001b[0;34m\u001b[0m\u001b[0;34m\u001b[0m\u001b[0;34m\u001b[0m\u001b[0m\n",
      "\u001b[0;31mUnboundLocalError\u001b[0m: local variable 'input_par' referenced before assignment"
     ]
    }
   ],
   "source": [
    "from pygama.dsp.WaveformBrowser import WaveformBrowser\n",
    "import matplotlib.pyplot as plt\n",
    "\n",
    "plt.ion()\n",
    "ch = raw_df['channel']\n",
    "ch_sel = ch == 1\n",
    "wb = WaveformBrowser(raw_file, lh5_group='/spms/raw', x_lim=(0, 50000), y_lim=(-10, 100), waveforms=['wf_blsub'], selection=ch_sel, verbosity=1, n_drawn=1)\n",
    "\n",
    "wb.draw_next()\n",
    "wb.ax.axhline(0)\n"
   ]
  },
  {
   "cell_type": "code",
   "execution_count": null,
   "id": "b0117c08-ab48-4fe4-b4d2-4d6d1125fddb",
   "metadata": {},
   "outputs": [],
   "source": []
  }
 ],
 "metadata": {
  "kernelspec": {
   "display_name": "Python 3",
   "language": "python",
   "name": "python3"
  },
  "language_info": {
   "codemirror_mode": {
    "name": "ipython",
    "version": 3
   },
   "file_extension": ".py",
   "mimetype": "text/x-python",
   "name": "python",
   "nbconvert_exporter": "python",
   "pygments_lexer": "ipython3",
   "version": "3.8.8"
  }
 },
 "nbformat": 4,
 "nbformat_minor": 5
}
